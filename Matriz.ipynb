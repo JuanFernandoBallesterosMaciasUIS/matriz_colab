{
  "nbformat": 4,
  "nbformat_minor": 0,
  "metadata": {
    "colab": {
      "provenance": [],
      "authorship_tag": "ABX9TyPm/3TO21GNAndSTRZTVU1T",
      "include_colab_link": true
    },
    "kernelspec": {
      "name": "python3",
      "display_name": "Python 3"
    },
    "language_info": {
      "name": "python"
    }
  },
  "cells": [
    {
      "cell_type": "markdown",
      "metadata": {
        "id": "view-in-github",
        "colab_type": "text"
      },
      "source": [
        "<a href=\"https://colab.research.google.com/github/JuanFernandoBallesterosMaciasUIS/matriz_colab/blob/main/Matriz.ipynb\" target=\"_parent\"><img src=\"https://colab.research.google.com/assets/colab-badge.svg\" alt=\"Open In Colab\"/></a>"
      ]
    },
    {
      "cell_type": "code",
      "execution_count": null,
      "metadata": {
        "colab": {
          "base_uri": "https://localhost:8080/"
        },
        "id": "s0y6S3AjseeT",
        "outputId": "67319e45-4157-4ea6-a936-4a7112f8bd5c"
      },
      "outputs": [
        {
          "output_type": "stream",
          "name": "stdout",
          "text": [
            "\n",
            "1 2 3 \n",
            "4 5 6 \n",
            "7 8 9 "
          ]
        }
      ],
      "source": [
        "# Matrices\n",
        "\n",
        "M = [[1,2,3], [4,5,6], [7,8,9]]\n",
        "\n",
        "for i in range(3):\n",
        "  print()\n",
        "  for j in range(3):\n",
        "    print(M[i][j], end = \" \")"
      ]
    },
    {
      "cell_type": "code",
      "source": [
        "# Generación de una matriz por indexación\n",
        "import random\n",
        "\n",
        "# Dimensiones de la matriz\n",
        "m = int(input(\"No. de filas de la Matiz: \"))\n",
        "n = int(input(\"No. de columnas de la Matriz: \"))\n",
        "\n",
        "# Creación matriz\n",
        "M = []\n",
        "\n",
        "for i in range(m):\n",
        "  M.append([])\n",
        "  for j in range(n):\n",
        "    M[i].append(random.randint(1,9))\n",
        "\n",
        "# Mostrar matriz\n",
        "for k in range(m):\n",
        "  print()\n",
        "  for j in range(n):\n",
        "    print(M[k][j], end = \"\\t\")\n",
        "\n",
        "# Suma de los elemntos de la matriz\n",
        "\n",
        "suma = 0 \n",
        "for i in range(m):\n",
        "  for j in range(n):\n",
        "    suma = suma + M[i][j]\n",
        "\n",
        "print(\"\\n\\nSuma de los elementos de la matriz: \", suma)\n",
        "\n",
        "\n",
        "# Suma de los elementos de la diagonal principal\n",
        "\n",
        "if m == n:\n",
        "  suma = 0 \n",
        "  for i in range(m):\n",
        "    for j in range(n):\n",
        "      if i == j :\n",
        "        suma = suma + M[i][j]\n",
        "\n",
        "\n",
        "  print(\"\\n\\nSuma de los elementos de la diagonal principal: \", suma)\n",
        "\n",
        "# Suma de los elementos de la diagonal secundaria\n",
        "# Suma de los elementos de la triangular inferior\n",
        "# Suma de los elemnetos de la trangular superior\n",
        "\n",
        "  suma1 = 0\n",
        "  suma2 = 0\n",
        "  suma3 = 0\n",
        "\n",
        "  for i in range(m):\n",
        "    for j in range(n):\n",
        "      if m-1 == j+i:\n",
        "        suma1 = suma1 + M[i][j]\n",
        "      if i < j:\n",
        "        suma2 = suma2 + M[i][j]\n",
        "      if i > j:\n",
        "        suma3 = suma3 + M[i][j]\n",
        "\n",
        "\n",
        "\n",
        "  print(\"\\n\\nSuma de los elementos de la diagonal secundaria: \", suma1)\n",
        "  print(\"\\n\\nSuma de los elementos de la triangular inferior: \", suma2)\n",
        "  print(\"\\n\\nSuma de los elementos de la triangular superior: \", suma3)\n",
        "else:\n",
        "  print(\"La matriz debe ser cuadrada m = n\")\n",
        "\n",
        "\n",
        "\n",
        "# "
      ],
      "metadata": {
        "colab": {
          "base_uri": "https://localhost:8080/"
        },
        "id": "WCLAJVbIvzuv",
        "outputId": "b9fefb4a-f3e4-463b-95cf-9b5afdf05b04"
      },
      "execution_count": null,
      "outputs": [
        {
          "output_type": "stream",
          "name": "stdout",
          "text": [
            "No. de filas de la Matiz: 3\n",
            "No. de columnas de la Matriz: 3\n",
            "\n",
            "3\t2\t1\t\n",
            "6\t1\t2\t\n",
            "8\t6\t7\t\n",
            "\n",
            "Suma de los elementos de la matriz:  36\n",
            "\n",
            "\n",
            "Suma de los elementos de la diagonal principal:  11\n",
            "\n",
            "\n",
            "Suma de los elementos de la diagonal secundaria:  10\n",
            "\n",
            "\n",
            "Suma de los elementos de la triangular inferior:  5\n",
            "\n",
            "\n",
            "Suma de los elementos de la triangular superior:  20\n"
          ]
        }
      ]
    },
    {
      "cell_type": "code",
      "source": [
        "# Apartir de una matriz crear y imprimir, asi : El vector B que contenga todos los números pares de la matriz A , y el vector C que contenga los números impares.\n",
        "\n",
        "# Generación de una matriz por indexación\n",
        "import random\n",
        "\n",
        "# Dimensiones de la matriz\n",
        "m = int(input(\"No. de filas de la Matiz: \"))\n",
        "n = int(input(\"No. de columnas de la Matriz: \"))\n",
        "\n",
        "# Creación matriz\n",
        "M = []\n",
        "\n",
        "for i in range(m):\n",
        "  M.append([])\n",
        "  for j in range(n):\n",
        "    M[i].append(random.randint(1,9))\n",
        "\n",
        "# Mostrar matriz\n",
        "for k in range(m):\n",
        "  print()\n",
        "  for j in range(n):\n",
        "    print(M[k][j], end = \"\\t\")\n",
        "\n",
        "vectorB = []\n",
        "vectorC = []\n",
        "sum_peri = 0\n",
        "for i in range(m):\n",
        "  for j in range(n):\n",
        "    if (M[i][j])%2 == 0:\n",
        "      vectorB.append(M[i][j])\n",
        "    else:\n",
        "      vectorC.append(M[i][j])\n",
        "    if j == 0 or j == n-1 or i == 0 or i == m-1:\n",
        "      sum_peri = sum_peri + M[i][j]\n",
        "\n",
        "print(\"\")\n",
        "print(\"Vector B con los números pares de la matriz A\")\n",
        "print(\"Vector B:\", vectorB)\n",
        "print(\"\")\n",
        "print(\"Vector C con los números impares de la matriz A\")\n",
        "print(\"Vector C:\", vectorC)\n",
        "\n",
        "\n",
        "print(\"\")\n",
        "print(\"La suma del perisferio de la matriz es: \", sum_peri)\n",
        "      \n",
        "# sumar el perisferio de la matriz"
      ],
      "metadata": {
        "id": "_ZzYlSwYysfu",
        "colab": {
          "base_uri": "https://localhost:8080/"
        },
        "outputId": "0e584582-e2b2-46be-9a61-a94b286c5852"
      },
      "execution_count": 10,
      "outputs": [
        {
          "output_type": "stream",
          "name": "stdout",
          "text": [
            "No. de filas de la Matiz: 3\n",
            "No. de columnas de la Matriz: 3\n",
            "\n",
            "9\t3\t5\t\n",
            "4\t8\t6\t\n",
            "1\t3\t8\t\n",
            "Vector B con los números pares de la matriz A\n",
            "Vector B: [4, 8, 6, 8]\n",
            "\n",
            "Vector C con los números impares de la matriz A\n",
            "Vector C: [9, 3, 5, 1, 3]\n",
            "\n",
            "La suma del perisferio de la matriz es:  39\n"
          ]
        }
      ]
    }
  ]
}